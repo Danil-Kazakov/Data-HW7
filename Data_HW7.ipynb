{
  "nbformat": 4,
  "nbformat_minor": 0,
  "metadata": {
    "colab": {
      "provenance": [],
      "mount_file_id": "1eSwSTqF7-KEfwdj6c62wTfbh3yR592iq",
      "authorship_tag": "ABX9TyNXCkrXWoDqLt+vRI89Gexf",
      "include_colab_link": true
    },
    "kernelspec": {
      "name": "python3",
      "display_name": "Python 3"
    },
    "language_info": {
      "name": "python"
    }
  },
  "cells": [
    {
      "cell_type": "markdown",
      "metadata": {
        "id": "view-in-github",
        "colab_type": "text"
      },
      "source": [
        "<a href=\"https://colab.research.google.com/github/Danil-Kazakov/Data-HW7/blob/main/Data_HW7.ipynb\" target=\"_parent\"><img src=\"https://colab.research.google.com/assets/colab-badge.svg\" alt=\"Open In Colab\"/></a>"
      ]
    },
    {
      "cell_type": "code",
      "source": [
        "from surprise import accuracy, Dataset, Reader, SVD\n",
        "from surprise.model_selection import cross_validate, train_test_split\n",
        "import pandas as pd\n",
        "import numpy as np\n",
        "from pathlib import Path"
      ],
      "metadata": {
        "id": "ejFKo2PO7K0j"
      },
      "execution_count": 2,
      "outputs": []
    },
    {
      "cell_type": "code",
      "source": [
        "import pandas as pd\n",
        "from surprise import Dataset, Reader, SVD, SVDpp, NMF\n",
        "from surprise.model_selection import cross_validate\n",
        "\n",
        "data = Path('/content/drive/MyDrive/ml-100k')\n",
        "ratings_file = data / 'u.data'\n",
        "\n",
        "reader = Reader(line_format='user item rating timestamp', sep='\\t')\n",
        "data = Dataset.load_from_file(ratings_file, reader=reader)\n",
        "\n",
        "algorithms = {\n",
        "    'SVD': SVD,\n",
        "    'SVD++': SVDpp,\n",
        "    'NMF': NMF\n",
        "}\n",
        "\n",
        "results = {}\n",
        "\n",
        "for name, algorithm in algorithms.items():\n",
        "    algo = algorithm()\n",
        "    cv_results = cross_validate(algo, data, measures=['RMSE', 'MAE'], cv=5, verbose=True)\n",
        "    results[name] = cv_results\n",
        "\n",
        "for name, result in results.items():\n",
        "    print(f\"\\nAlgorithm: {name}\")\n",
        "    for metric in ['test_rmse', 'test_mae']:\n",
        "        print(f\"{metric}: {np.mean(result[metric]):.4f} ± {np.std(result[metric]):.4f}\")\n"
      ],
      "metadata": {
        "colab": {
          "base_uri": "https://localhost:8080/"
        },
        "id": "c9AMWC9S8rEt",
        "outputId": "db9112f3-4a6c-4ae9-bb45-6857c3f2826e"
      },
      "execution_count": 4,
      "outputs": [
        {
          "output_type": "stream",
          "name": "stdout",
          "text": [
            "Evaluating RMSE, MAE of algorithm SVD on 5 split(s).\n",
            "\n",
            "                  Fold 1  Fold 2  Fold 3  Fold 4  Fold 5  Mean    Std     \n",
            "RMSE (testset)    0.9430  0.9423  0.9257  0.9371  0.9363  0.9369  0.0062  \n",
            "MAE (testset)     0.7437  0.7390  0.7321  0.7379  0.7392  0.7384  0.0037  \n",
            "Fit time          1.48    1.96    1.32    1.28    1.26    1.46    0.26    \n",
            "Test time         0.19    0.32    0.14    0.11    0.21    0.19    0.07    \n",
            "Evaluating RMSE, MAE of algorithm SVDpp on 5 split(s).\n",
            "\n",
            "                  Fold 1  Fold 2  Fold 3  Fold 4  Fold 5  Mean    Std     \n",
            "RMSE (testset)    0.9239  0.9189  0.9131  0.9218  0.9175  0.9191  0.0037  \n",
            "MAE (testset)     0.7238  0.7188  0.7191  0.7222  0.7165  0.7201  0.0026  \n",
            "Fit time          29.63   26.45   26.66   26.30   26.29   27.07   1.29    \n",
            "Test time         4.13    5.54    4.08    4.20    5.28    4.65    0.63    \n",
            "Evaluating RMSE, MAE of algorithm NMF on 5 split(s).\n",
            "\n",
            "                  Fold 1  Fold 2  Fold 3  Fold 4  Fold 5  Mean    Std     \n",
            "RMSE (testset)    0.9677  0.9675  0.9540  0.9646  0.9635  0.9634  0.0050  \n",
            "MAE (testset)     0.7582  0.7587  0.7495  0.7598  0.7565  0.7566  0.0037  \n",
            "Fit time          1.88    2.78    1.81    1.80    2.66    2.19    0.44    \n",
            "Test time         0.28    0.13    0.10    0.09    0.15    0.15    0.07    \n",
            "\n",
            "Algorithm: SVD\n",
            "test_rmse: 0.9369 ± 0.0062\n",
            "test_mae: 0.7384 ± 0.0037\n",
            "\n",
            "Algorithm: SVD++\n",
            "test_rmse: 0.9191 ± 0.0037\n",
            "test_mae: 0.7201 ± 0.0026\n",
            "\n",
            "Algorithm: NMF\n",
            "test_rmse: 0.9634 ± 0.0050\n",
            "test_mae: 0.7566 ± 0.0037\n"
          ]
        }
      ]
    }
  ]
}